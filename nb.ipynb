{
 "cells": [
  {
   "cell_type": "code",
   "execution_count": 2,
   "id": "14ca35e1",
   "metadata": {},
   "outputs": [],
   "source": [
    "import numpy as np\n",
    "import pandas as pd\n",
    "import matplotlib.pyplot as plt"
   ]
  },
  {
   "cell_type": "code",
   "execution_count": 3,
   "id": "946b9d64",
   "metadata": {},
   "outputs": [
    {
     "data": {
      "text/plain": "         company live mediaEngine  p2p         cdn  upload  peers_count  \\\n0  Streamroot TV  VOD         ME1  0.0   8507376.0     0.0          0.0   \n1  Streamroot TV  VOD         ME1  0.0   5778744.0     0.0          0.0   \n2  Streamroot TV  VOD         ME1  0.0   7692960.0     0.0          0.0   \n3  Streamroot TV  VOD         ME1  0.0   8229888.0     0.0          0.0   \n4  Streamroot TV  VOD         ME1  0.0  10387000.0     0.0          0.0   \n\n   peers_match      timestamp  sessionDuration  playbackErrorCount  \\\n0            1  1562469807407         120000.0                   0   \n1            0  1562469927310         240000.0                   0   \n2            0  1562470047330         360000.0                   0   \n3            0  1562470167720         480000.0                   0   \n4            0  1562470287353         600000.0                   0   \n\n   totalPlaybackErrorCount        content  \n0                        0  content-09235  \n1                        0  content-09235  \n2                        0  content-09235  \n3                        0  content-09235  \n4                        0  content-09235  ",
      "text/html": "<div>\n<style scoped>\n    .dataframe tbody tr th:only-of-type {\n        vertical-align: middle;\n    }\n\n    .dataframe tbody tr th {\n        vertical-align: top;\n    }\n\n    .dataframe thead th {\n        text-align: right;\n    }\n</style>\n<table border=\"1\" class=\"dataframe\">\n  <thead>\n    <tr style=\"text-align: right;\">\n      <th></th>\n      <th>company</th>\n      <th>live</th>\n      <th>mediaEngine</th>\n      <th>p2p</th>\n      <th>cdn</th>\n      <th>upload</th>\n      <th>peers_count</th>\n      <th>peers_match</th>\n      <th>timestamp</th>\n      <th>sessionDuration</th>\n      <th>playbackErrorCount</th>\n      <th>totalPlaybackErrorCount</th>\n      <th>content</th>\n    </tr>\n  </thead>\n  <tbody>\n    <tr>\n      <th>0</th>\n      <td>Streamroot TV</td>\n      <td>VOD</td>\n      <td>ME1</td>\n      <td>0.0</td>\n      <td>8507376.0</td>\n      <td>0.0</td>\n      <td>0.0</td>\n      <td>1</td>\n      <td>1562469807407</td>\n      <td>120000.0</td>\n      <td>0</td>\n      <td>0</td>\n      <td>content-09235</td>\n    </tr>\n    <tr>\n      <th>1</th>\n      <td>Streamroot TV</td>\n      <td>VOD</td>\n      <td>ME1</td>\n      <td>0.0</td>\n      <td>5778744.0</td>\n      <td>0.0</td>\n      <td>0.0</td>\n      <td>0</td>\n      <td>1562469927310</td>\n      <td>240000.0</td>\n      <td>0</td>\n      <td>0</td>\n      <td>content-09235</td>\n    </tr>\n    <tr>\n      <th>2</th>\n      <td>Streamroot TV</td>\n      <td>VOD</td>\n      <td>ME1</td>\n      <td>0.0</td>\n      <td>7692960.0</td>\n      <td>0.0</td>\n      <td>0.0</td>\n      <td>0</td>\n      <td>1562470047330</td>\n      <td>360000.0</td>\n      <td>0</td>\n      <td>0</td>\n      <td>content-09235</td>\n    </tr>\n    <tr>\n      <th>3</th>\n      <td>Streamroot TV</td>\n      <td>VOD</td>\n      <td>ME1</td>\n      <td>0.0</td>\n      <td>8229888.0</td>\n      <td>0.0</td>\n      <td>0.0</td>\n      <td>0</td>\n      <td>1562470167720</td>\n      <td>480000.0</td>\n      <td>0</td>\n      <td>0</td>\n      <td>content-09235</td>\n    </tr>\n    <tr>\n      <th>4</th>\n      <td>Streamroot TV</td>\n      <td>VOD</td>\n      <td>ME1</td>\n      <td>0.0</td>\n      <td>10387000.0</td>\n      <td>0.0</td>\n      <td>0.0</td>\n      <td>0</td>\n      <td>1562470287353</td>\n      <td>600000.0</td>\n      <td>0</td>\n      <td>0</td>\n      <td>content-09235</td>\n    </tr>\n  </tbody>\n</table>\n</div>"
     },
     "execution_count": 3,
     "metadata": {},
     "output_type": "execute_result"
    }
   ],
   "source": [
    "df = pd.read_csv('dstest.csv')\n",
    "df.head()"
   ]
  },
  {
   "cell_type": "markdown",
   "source": [
    "#### Question 1\n",
    "\n",
    "Knowing the goal of the our technology, define a metric to measure our performance. Calculate that performance score for each of the companies in the dataset."
   ],
   "metadata": {
    "collapsed": false,
    "pycharm": {
     "name": "#%% md\n"
    }
   }
  },
  {
   "cell_type": "markdown",
   "id": "4ab5ced0",
   "metadata": {
    "pycharm": {
     "name": "#%% md\n"
    }
   },
   "source": [
    "For each company , we can define a metric average percentage of volume downloaded by p2p network in timespan 2 min\n",
    "percentage = total_volume_p2p / total_volume_p2p + total_volume_cdn"
   ]
  },
  {
   "cell_type": "code",
   "execution_count": 4,
   "id": "08fa6610",
   "metadata": {},
   "outputs": [
    {
     "data": {
      "text/plain": "[['Streamroot TV', 0.5472880588096204],\n ['Flash Infos', 0.39405644031384546],\n ['Sports News', 0.21991367591156838]]"
     },
     "execution_count": 4,
     "metadata": {},
     "output_type": "execute_result"
    }
   ],
   "source": [
    "metric = []\n",
    "for com in  df.company.unique():\n",
    "    total_volume_p2p = df.loc[df.company == com, 'p2p'].sum()\n",
    "    total_volume_cdn = df.loc[df.company == com, 'cdn'].sum()\n",
    "    percentage = total_volume_p2p / (total_volume_p2p + total_volume_cdn)\n",
    "    metric.append([com, percentage])\n",
    "metric"
   ]
  },
  {
   "cell_type": "markdown",
   "source": [
    "#### Question 2\n",
    "\n",
    "##### 2.1\n",
    "How can we know whether a payload is the first payload of a viewer's session?"
   ],
   "metadata": {
    "collapsed": false,
    "pycharm": {
     "name": "#%% md\n"
    }
   }
  },
  {
   "cell_type": "markdown",
   "source": [
    "by asserting if sessionDuration is lesser than a timespan : 2 min"
   ],
   "metadata": {
    "collapsed": false
   }
  },
  {
   "cell_type": "code",
   "execution_count": 5,
   "outputs": [],
   "source": [
    "def is_first_payload(row):\n",
    "    return row['sessionDuration'] <= 2 * 60 * 1000"
   ],
   "metadata": {
    "collapsed": false,
    "pycharm": {
     "name": "#%%\n"
    }
   }
  },
  {
   "cell_type": "markdown",
   "source": [
    "##### 2.2\n",
    "Add a column `isFirstPayload` to the dataset, that must be `True` if the row represents a payload that was **the first payload** sent by a viewer, and `False` otherwise."
   ],
   "metadata": {
    "collapsed": false
   }
  },
  {
   "cell_type": "code",
   "execution_count": 6,
   "outputs": [
    {
     "data": {
      "text/plain": "         company live mediaEngine  p2p         cdn  upload  peers_count  \\\n0  Streamroot TV  VOD         ME1  0.0   8507376.0     0.0          0.0   \n1  Streamroot TV  VOD         ME1  0.0   5778744.0     0.0          0.0   \n2  Streamroot TV  VOD         ME1  0.0   7692960.0     0.0          0.0   \n3  Streamroot TV  VOD         ME1  0.0   8229888.0     0.0          0.0   \n4  Streamroot TV  VOD         ME1  0.0  10387000.0     0.0          0.0   \n\n   peers_match      timestamp  sessionDuration  playbackErrorCount  \\\n0            1  1562469807407         120000.0                   0   \n1            0  1562469927310         240000.0                   0   \n2            0  1562470047330         360000.0                   0   \n3            0  1562470167720         480000.0                   0   \n4            0  1562470287353         600000.0                   0   \n\n   totalPlaybackErrorCount        content  isFirstPayload  \n0                        0  content-09235            True  \n1                        0  content-09235           False  \n2                        0  content-09235           False  \n3                        0  content-09235           False  \n4                        0  content-09235           False  ",
      "text/html": "<div>\n<style scoped>\n    .dataframe tbody tr th:only-of-type {\n        vertical-align: middle;\n    }\n\n    .dataframe tbody tr th {\n        vertical-align: top;\n    }\n\n    .dataframe thead th {\n        text-align: right;\n    }\n</style>\n<table border=\"1\" class=\"dataframe\">\n  <thead>\n    <tr style=\"text-align: right;\">\n      <th></th>\n      <th>company</th>\n      <th>live</th>\n      <th>mediaEngine</th>\n      <th>p2p</th>\n      <th>cdn</th>\n      <th>upload</th>\n      <th>peers_count</th>\n      <th>peers_match</th>\n      <th>timestamp</th>\n      <th>sessionDuration</th>\n      <th>playbackErrorCount</th>\n      <th>totalPlaybackErrorCount</th>\n      <th>content</th>\n      <th>isFirstPayload</th>\n    </tr>\n  </thead>\n  <tbody>\n    <tr>\n      <th>0</th>\n      <td>Streamroot TV</td>\n      <td>VOD</td>\n      <td>ME1</td>\n      <td>0.0</td>\n      <td>8507376.0</td>\n      <td>0.0</td>\n      <td>0.0</td>\n      <td>1</td>\n      <td>1562469807407</td>\n      <td>120000.0</td>\n      <td>0</td>\n      <td>0</td>\n      <td>content-09235</td>\n      <td>True</td>\n    </tr>\n    <tr>\n      <th>1</th>\n      <td>Streamroot TV</td>\n      <td>VOD</td>\n      <td>ME1</td>\n      <td>0.0</td>\n      <td>5778744.0</td>\n      <td>0.0</td>\n      <td>0.0</td>\n      <td>0</td>\n      <td>1562469927310</td>\n      <td>240000.0</td>\n      <td>0</td>\n      <td>0</td>\n      <td>content-09235</td>\n      <td>False</td>\n    </tr>\n    <tr>\n      <th>2</th>\n      <td>Streamroot TV</td>\n      <td>VOD</td>\n      <td>ME1</td>\n      <td>0.0</td>\n      <td>7692960.0</td>\n      <td>0.0</td>\n      <td>0.0</td>\n      <td>0</td>\n      <td>1562470047330</td>\n      <td>360000.0</td>\n      <td>0</td>\n      <td>0</td>\n      <td>content-09235</td>\n      <td>False</td>\n    </tr>\n    <tr>\n      <th>3</th>\n      <td>Streamroot TV</td>\n      <td>VOD</td>\n      <td>ME1</td>\n      <td>0.0</td>\n      <td>8229888.0</td>\n      <td>0.0</td>\n      <td>0.0</td>\n      <td>0</td>\n      <td>1562470167720</td>\n      <td>480000.0</td>\n      <td>0</td>\n      <td>0</td>\n      <td>content-09235</td>\n      <td>False</td>\n    </tr>\n    <tr>\n      <th>4</th>\n      <td>Streamroot TV</td>\n      <td>VOD</td>\n      <td>ME1</td>\n      <td>0.0</td>\n      <td>10387000.0</td>\n      <td>0.0</td>\n      <td>0.0</td>\n      <td>0</td>\n      <td>1562470287353</td>\n      <td>600000.0</td>\n      <td>0</td>\n      <td>0</td>\n      <td>content-09235</td>\n      <td>False</td>\n    </tr>\n  </tbody>\n</table>\n</div>"
     },
     "execution_count": 6,
     "metadata": {},
     "output_type": "execute_result"
    }
   ],
   "source": [
    "df['isFirstPayload'] = df.apply(lambda row: is_first_payload(row), axis=1)\n",
    "df.head()"
   ],
   "metadata": {
    "collapsed": false,
    "pycharm": {
     "name": "#%%\n"
    }
   }
  },
  {
   "cell_type": "markdown",
   "source": [
    "##### 2.3\n",
    "Use that column to calculate the **number of distinct viewers** that sent payloads for each company."
   ],
   "metadata": {
    "collapsed": false
   }
  },
  {
   "cell_type": "markdown",
   "source": [
    "Didn't understand the relation between number of distinct viewers and viewers who send the 1 payload.\n",
    "For me, each viewer is distinguished by his starting timestamp = current timestamp - duration"
   ],
   "metadata": {
    "collapsed": false
   }
  },
  {
   "cell_type": "code",
   "execution_count": 7,
   "outputs": [
    {
     "data": {
      "text/plain": "[['Streamroot TV', 338262], ['Flash Infos', 11531], ['Sports News', 1705]]"
     },
     "execution_count": 7,
     "metadata": {},
     "output_type": "execute_result"
    }
   ],
   "source": [
    "distinct_viewers = []\n",
    "def get_starting_time(row):\n",
    "    return row['timestamp'] - row['sessionDuration']\n",
    "df['startingTime'] = df.apply(lambda row: get_starting_time(row), axis=1)\n",
    "for com in  df.company.unique():\n",
    "    result = df.loc[df.company == com, 'startingTime'].nunique()\n",
    "    distinct_viewers.append([com, result])\n",
    "\n",
    "distinct_viewers"
   ],
   "metadata": {
    "collapsed": false,
    "pycharm": {
     "name": "#%%\n"
    }
   }
  },
  {
   "cell_type": "markdown",
   "source": [
    "#### Question 3\n",
    "\n",
    "##### 3.1\n",
    "Let's consider a viewer A who starts a video at T=0, then has a playback error at **T = 2 minutes 30 seconds**, and then another one at **T=6 minutes 20 seconds**. What will be the values of the fields `playbackErrorCount` and `totalPlaybackErrorCount` in the first 5 payloads sent by viewer A?"
   ],
   "metadata": {
    "collapsed": false
   }
  },
  {
   "cell_type": "markdown",
   "source": [
    "it would be :"
   ],
   "metadata": {
    "collapsed": false,
    "pycharm": {
     "name": "#%% md\n"
    }
   }
  },
  {
   "cell_type": "code",
   "source": [
    "payloads = [[0, 0],\n",
    "            [1, 1],\n",
    "            [0, 1],\n",
    "            [1, 2],\n",
    "            [0, 2]]\n",
    "\n"
   ],
   "metadata": {
    "collapsed": false,
    "pycharm": {
     "name": "#%%\n"
    }
   },
   "execution_count": 8,
   "outputs": []
  },
  {
   "cell_type": "markdown",
   "source": [
    "##### 3.2\n",
    "Calculate the **number of distinct viewers** that had **at least 1** playback error during their session.\n"
   ],
   "metadata": {
    "collapsed": false,
    "pycharm": {
     "name": "#%% md\n"
    }
   }
  },
  {
   "cell_type": "code",
   "execution_count": 9,
   "outputs": [
    {
     "data": {
      "text/plain": "11"
     },
     "execution_count": 9,
     "metadata": {},
     "output_type": "execute_result"
    }
   ],
   "source": [
    "df.loc[df.playbackErrorCount >= 1, 'startingTime'].nunique()\n"
   ],
   "metadata": {
    "collapsed": false,
    "pycharm": {
     "name": "#%%\n"
    }
   }
  },
  {
   "cell_type": "markdown",
   "source": [
    "#### Question 4\n",
    "\n",
    "In this question, we only focus on customer **Streamr\\*\\*\\*\\* TV**.\n",
    "\n",
    "We define the _concurrency_ as the number of viewers connected simustaneously on the **same content**, i.e the number of payloads we received during a given 2 minutes window on a given content.\n",
    "\n",
    "##### 4.1\n",
    "Add a column \"readableDate\" to the dataset that will be the beginning of the 2 minutes window during which the payload was sent. For example, if a payload was sent at 11:35, the column \"readableDate\" should be 11:33."
   ],
   "metadata": {
    "collapsed": false,
    "pycharm": {
     "name": "#%% md\n"
    }
   }
  },
  {
   "cell_type": "code",
   "source": [
    "def get_readable_date(row):\n",
    "    return row['timestamp'] - 2 * 60 * 1000\n",
    "df['readableDate'] = pd.to_datetime(df.apply(lambda row: get_readable_date(row), axis=1), unit='ms')"
   ],
   "metadata": {
    "collapsed": false,
    "pycharm": {
     "name": "#%%\n"
    }
   },
   "execution_count": 23,
   "outputs": []
  },
  {
   "cell_type": "markdown",
   "source": [
    "##### 4.2\n",
    "Plot the concurrency time series for the content `content-05335`."
   ],
   "metadata": {
    "collapsed": false,
    "pycharm": {
     "name": "#%% md\n"
    }
   }
  },
  {
   "cell_type": "code",
   "execution_count": 21,
   "outputs": [
    {
     "data": {
      "text/plain": "Text(0, 0.5, 'concurrency')"
     },
     "execution_count": 21,
     "metadata": {},
     "output_type": "execute_result"
    },
    {
     "data": {
      "text/plain": "<Figure size 640x480 with 1 Axes>",
      "image/png": "[encoded data removed]"
     },
     "metadata": {},
     "output_type": "display_data"
    }
   ],
   "source": [
    "sub_df = df.loc[df.content == 'content-05335']\n",
    "\n",
    "ts = sub_df.readableDate.value_counts()\n",
    "plt.plot(ts, marker='o')\n",
    "plt.xlabel(\"readable time\")\n",
    "plt.ylabel(\"concurrency\")\n"
   ],
   "metadata": {
    "collapsed": false,
    "pycharm": {
     "name": "#%%\n"
    }
   }
  },
  {
   "cell_type": "markdown",
   "source": [
    "##### 4.3\n",
    "What is the average performance measured when the concurrency is lower than 10?\n"
   ],
   "metadata": {
    "collapsed": false,
    "pycharm": {
     "name": "#%% md\n"
    }
   }
  },
  {
   "cell_type": "markdown",
   "source": [
    "todo"
   ],
   "metadata": {
    "collapsed": false
   }
  },
  {
   "cell_type": "code",
   "execution_count": 24,
   "outputs": [
    {
     "data": {
      "text/plain": "2019-07-07 03:56:38.634    5\n2019-07-07 05:26:48.110    5\n2019-07-07 00:58:38.087    5\n2019-07-07 02:50:38.167    4\n2019-07-07 02:55:03.910    4\n                          ..\n2019-07-07 04:14:45.567    1\n2019-07-07 04:12:45.397    1\n2019-07-07 04:10:45.391    1\n2019-07-07 04:08:45.386    1\n2019-07-07 05:56:30.208    1\nName: readableDate, Length: 379335, dtype: int64"
     },
     "execution_count": 24,
     "metadata": {},
     "output_type": "execute_result"
    }
   ],
   "source": [
    "perf_arr = []\n",
    "concurrency = df['readableDate'].value_counts()\n",
    "concurrency\n"
   ],
   "metadata": {
    "collapsed": false,
    "pycharm": {
     "name": "#%%\n"
    }
   }
  },
  {
   "cell_type": "markdown",
   "source": [
    "##### 4.4\n",
    "Starting from which concurrency can we say there is a 75% chance that the performance on a content is higher than 80%?"
   ],
   "metadata": {
    "collapsed": false
   }
  },
  {
   "cell_type": "markdown",
   "source": [
    "todo"
   ],
   "metadata": {
    "collapsed": false,
    "pycharm": {
     "name": "#%% md\n"
    }
   }
  }
 ],
 "metadata": {
  "kernelspec": {
   "display_name": "Python 3 (ipykernel)",
   "language": "python",
   "name": "python3"
  },
  "language_info": {
   "codemirror_mode": {
    "name": "ipython",
    "version": 3
   },
   "file_extension": ".py",
   "mimetype": "text/x-python",
   "name": "python",
   "nbconvert_exporter": "python",
   "pygments_lexer": "ipython3",
   "version": "3.9.5"
  }
 },
 "nbformat": 4,
 "nbformat_minor": 5
}